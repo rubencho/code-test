{
  "nbformat": 4,
  "nbformat_minor": 0,
  "metadata": {
    "colab": {
      "name": "Untitled0.ipynb",
      "provenance": [],
      "toc_visible": true,
      "authorship_tag": "ABX9TyNBkP2TTjQg1xE9zmgjZw40",
      "include_colab_link": true
    },
    "kernelspec": {
      "name": "python3",
      "display_name": "Python 3"
    }
  },
  "cells": [
    {
      "cell_type": "markdown",
      "metadata": {
        "id": "view-in-github",
        "colab_type": "text"
      },
      "source": [
        "<a href=\"https://colab.research.google.com/github/rubencho/code-test/blob/main/DiUS_test_code_notebook.ipynb\" target=\"_parent\"><img src=\"https://colab.research.google.com/assets/colab-badge.svg\" alt=\"Open In Colab\"/></a>"
      ]
    },
    {
      "cell_type": "markdown",
      "metadata": {
        "id": "qAvt6iQOkR2l"
      },
      "source": [
        "\n",
        "# DiUS is starting a bowling club\n",
        "To help with the club, we have engaged you to program a scoring system.\n",
        "\n",
        "The features on the system are:\n",
        "\n",
        "One player only\n",
        "In each frame, the bowler has 2 tries to knock down all the pins\n",
        "If in 2 tries, the bowler fails to knock down all the pins, their score is the sum of the number of pins they've knocked down in the 2 attempts\n",
        "E.g, if a bowler rolls, 4,4\n",
        "\n",
        "Their score is 8.\n"
      ]
    },
    {
      "cell_type": "code",
      "metadata": {
        "id": "NWyEFP3ZfnP4"
      },
      "source": [
        "from bowling import BowlingGame\n",
        "game_one = BowlingGame()"
      ],
      "execution_count": 3,
      "outputs": []
    },
    {
      "cell_type": "code",
      "metadata": {
        "id": "lMfdH5Lfkutb",
        "colab": {
          "base_uri": "https://localhost:8080/"
        },
        "outputId": "c4847899-8850-43e8-bd95-68c7c73dc728"
      },
      "source": [
        "game_one.roll(4)\n",
        "game_one.roll(4)\n",
        "game_one.score()"
      ],
      "execution_count": 4,
      "outputs": [
        {
          "output_type": "execute_result",
          "data": {
            "text/plain": [
              "8"
            ]
          },
          "metadata": {
            "tags": []
          },
          "execution_count": 4
        }
      ]
    },
    {
      "cell_type": "markdown",
      "metadata": {
        "id": "upT9QbGAk6xS"
      },
      "source": [
        "\n",
        "If in 2 tries, the bowler knocks down all the pins, it is a spare. The scoring of a spare is the sum of the number of pins knocked down plus the number of pins knocked down in the next bowl.\n",
        "E.g, if a bowler rolls, 4,6 | 5, 0\n",
        "\n",
        "Their score is 20. So that's (4 + 6 + 5) + (5 + 0)\n"
      ]
    },
    {
      "cell_type": "code",
      "metadata": {
        "id": "7-tf4_Brk6Pc",
        "colab": {
          "base_uri": "https://localhost:8080/"
        },
        "outputId": "2af49a39-1d8e-4cae-fa6b-4af448eca35c"
      },
      "source": [
        "game_two = BowlingGame()\n",
        "game_two.roll(4)\n",
        "game_two.roll(6)\n",
        "game_two.roll(5)\n",
        "game_two.roll(0)\n",
        "game_two.score()"
      ],
      "execution_count": 5,
      "outputs": [
        {
          "output_type": "execute_result",
          "data": {
            "text/plain": [
              "20"
            ]
          },
          "metadata": {
            "tags": []
          },
          "execution_count": 5
        }
      ]
    },
    {
      "cell_type": "markdown",
      "metadata": {
        "id": "2d4ORXMUlUoK"
      },
      "source": [
        "\n",
        "If in one try, the bowler knocks down all the pins, it is a strike. The scoring of a strike is the sum of the number of pins knocked down plus the number of pins knocked down in the next two bowls.\n",
        "E.g, if a bowler rolls, 10 | 5, 4\n",
        "\n",
        "Their score is 28. So that's (10 + 5 + 4) + ( 5 + 4)\n"
      ]
    },
    {
      "cell_type": "code",
      "metadata": {
        "id": "WOhPteKTm4zL",
        "colab": {
          "base_uri": "https://localhost:8080/"
        },
        "outputId": "088a7b5d-cde4-45f1-e7e9-9e13cb94530d"
      },
      "source": [
        "game_strike = BowlingGame()\n",
        "game_strike.roll(10)\n",
        "game_strike.roll(5)\n",
        "game_strike.roll(4)\n",
        "game_strike.score()"
      ],
      "execution_count": 6,
      "outputs": [
        {
          "output_type": "execute_result",
          "data": {
            "text/plain": [
              "28"
            ]
          },
          "metadata": {
            "tags": []
          },
          "execution_count": 6
        }
      ]
    },
    {
      "cell_type": "markdown",
      "metadata": {
        "id": "L9nSxw7nnH74"
      },
      "source": [
        "\n",
        "There are 10 pins in a frame.\n",
        "There are 10 frames in a match.\n",
        "\n"
      ]
    },
    {
      "cell_type": "code",
      "metadata": {
        "id": "9UCepO_Fnjbv",
        "colab": {
          "base_uri": "https://localhost:8080/"
        },
        "outputId": "ef027855-318c-4257-b074-f9a096cdfd04"
      },
      "source": [
        "gm = BowlingGame()\n",
        "for _ in range(20):\n",
        "  gm.roll(4)\n",
        "gm.score()\n"
      ],
      "execution_count": 7,
      "outputs": [
        {
          "output_type": "execute_result",
          "data": {
            "text/plain": [
              "80"
            ]
          },
          "metadata": {
            "tags": []
          },
          "execution_count": 7
        }
      ]
    },
    {
      "cell_type": "code",
      "metadata": {
        "id": "6_xgo-qck4-O",
        "colab": {
          "base_uri": "https://localhost:8080/",
          "height": 323
        },
        "outputId": "bfe7193f-d872-4704-ab74-03e2e8c5275c"
      },
      "source": [
        "# Next roll produce an Excepcion\n",
        "gm.roll(4)"
      ],
      "execution_count": 9,
      "outputs": [
        {
          "output_type": "error",
          "ename": "GameOver",
          "evalue": "ignored",
          "traceback": [
            "\u001b[0;31m---------------------------------------------------------------------------\u001b[0m",
            "\u001b[0;31mGameOver\u001b[0m                                  Traceback (most recent call last)",
            "\u001b[0;32m<ipython-input-9-5bf9acbbfda2>\u001b[0m in \u001b[0;36m<module>\u001b[0;34m()\u001b[0m\n\u001b[1;32m      1\u001b[0m \u001b[0;31m# Next roll produce an Excepcion\u001b[0m\u001b[0;34m\u001b[0m\u001b[0;34m\u001b[0m\u001b[0;34m\u001b[0m\u001b[0m\n\u001b[0;32m----> 2\u001b[0;31m \u001b[0mgm\u001b[0m\u001b[0;34m.\u001b[0m\u001b[0mroll\u001b[0m\u001b[0;34m(\u001b[0m\u001b[0;36m4\u001b[0m\u001b[0;34m)\u001b[0m\u001b[0;34m\u001b[0m\u001b[0;34m\u001b[0m\u001b[0m\n\u001b[0m",
            "\u001b[0;32m/content/bowling.py\u001b[0m in \u001b[0;36mroll\u001b[0;34m(self, pins)\u001b[0m\n\u001b[1;32m     47\u001b[0m \u001b[0;34m\u001b[0m\u001b[0m\n\u001b[1;32m     48\u001b[0m     \u001b[0;32mdef\u001b[0m \u001b[0mroll\u001b[0m\u001b[0;34m(\u001b[0m\u001b[0mself\u001b[0m\u001b[0;34m,\u001b[0m \u001b[0mpins\u001b[0m\u001b[0;34m:\u001b[0m \u001b[0mint\u001b[0m\u001b[0;34m)\u001b[0m\u001b[0;34m:\u001b[0m\u001b[0;34m\u001b[0m\u001b[0;34m\u001b[0m\u001b[0m\n\u001b[0;32m---> 49\u001b[0;31m         \u001b[0mself\u001b[0m\u001b[0;34m.\u001b[0m\u001b[0m_fill_frames_rolls\u001b[0m\u001b[0;34m(\u001b[0m\u001b[0mpins\u001b[0m\u001b[0;34m)\u001b[0m\u001b[0;34m\u001b[0m\u001b[0;34m\u001b[0m\u001b[0m\n\u001b[0m\u001b[1;32m     50\u001b[0m         \u001b[0mself\u001b[0m\u001b[0;34m.\u001b[0m\u001b[0m_update_frame_score\u001b[0m\u001b[0;34m(\u001b[0m\u001b[0mpins\u001b[0m\u001b[0;34m)\u001b[0m\u001b[0;34m\u001b[0m\u001b[0;34m\u001b[0m\u001b[0m\n\u001b[1;32m     51\u001b[0m \u001b[0;34m\u001b[0m\u001b[0m\n",
            "\u001b[0;32m/content/bowling.py\u001b[0m in \u001b[0;36m_fill_frames_rolls\u001b[0;34m(self, pins)\u001b[0m\n\u001b[1;32m     52\u001b[0m     \u001b[0;31m#========== Fill rolls on frames ===========\u001b[0m\u001b[0;34m\u001b[0m\u001b[0;34m\u001b[0m\u001b[0;34m\u001b[0m\u001b[0m\n\u001b[1;32m     53\u001b[0m     \u001b[0;32mdef\u001b[0m \u001b[0m_fill_frames_rolls\u001b[0m\u001b[0;34m(\u001b[0m\u001b[0mself\u001b[0m\u001b[0;34m,\u001b[0m \u001b[0mpins\u001b[0m\u001b[0;34m:\u001b[0m \u001b[0mint\u001b[0m\u001b[0;34m)\u001b[0m\u001b[0;34m:\u001b[0m\u001b[0;34m\u001b[0m\u001b[0;34m\u001b[0m\u001b[0m\n\u001b[0;32m---> 54\u001b[0;31m         \u001b[0mself\u001b[0m\u001b[0;34m.\u001b[0m\u001b[0m_check_if_frames_is_valid\u001b[0m\u001b[0;34m(\u001b[0m\u001b[0;34m)\u001b[0m\u001b[0;34m\u001b[0m\u001b[0;34m\u001b[0m\u001b[0m\n\u001b[0m\u001b[1;32m     55\u001b[0m         \u001b[0mself\u001b[0m\u001b[0;34m.\u001b[0m\u001b[0m_check_if_invalid_roll\u001b[0m\u001b[0;34m(\u001b[0m\u001b[0mpins\u001b[0m\u001b[0;34m)\u001b[0m\u001b[0;34m\u001b[0m\u001b[0;34m\u001b[0m\u001b[0m\n\u001b[1;32m     56\u001b[0m \u001b[0;34m\u001b[0m\u001b[0m\n",
            "\u001b[0;32m/content/bowling.py\u001b[0m in \u001b[0;36m_check_if_frames_is_valid\u001b[0;34m(self)\u001b[0m\n\u001b[1;32m    141\u001b[0m     \u001b[0;32mdef\u001b[0m \u001b[0m_check_if_frames_is_valid\u001b[0m\u001b[0;34m(\u001b[0m\u001b[0mself\u001b[0m\u001b[0;34m)\u001b[0m\u001b[0;34m:\u001b[0m\u001b[0;34m\u001b[0m\u001b[0;34m\u001b[0m\u001b[0m\n\u001b[1;32m    142\u001b[0m         \u001b[0;32mif\u001b[0m \u001b[0mself\u001b[0m\u001b[0;34m.\u001b[0m\u001b[0m_game_over\u001b[0m\u001b[0;34m:\u001b[0m\u001b[0;34m\u001b[0m\u001b[0;34m\u001b[0m\u001b[0m\n\u001b[0;32m--> 143\u001b[0;31m             \u001b[0;32mraise\u001b[0m \u001b[0mGameOver\u001b[0m\u001b[0;34m(\u001b[0m\u001b[0;34m'The game is finish'\u001b[0m\u001b[0;34m)\u001b[0m\u001b[0;34m\u001b[0m\u001b[0;34m\u001b[0m\u001b[0m\n\u001b[0m\u001b[1;32m    144\u001b[0m \u001b[0;34m\u001b[0m\u001b[0m\n\u001b[1;32m    145\u001b[0m         \u001b[0;32mif\u001b[0m \u001b[0mself\u001b[0m\u001b[0;34m.\u001b[0m\u001b[0m_rolls_frame\u001b[0m \u001b[0;34m==\u001b[0m \u001b[0;36m0\u001b[0m\u001b[0;34m:\u001b[0m  \u001b[0;31m# Check if a new frame is needed\u001b[0m\u001b[0;34m\u001b[0m\u001b[0;34m\u001b[0m\u001b[0m\n",
            "\u001b[0;31mGameOver\u001b[0m: The game is finish"
          ]
        }
      ]
    },
    {
      "cell_type": "markdown",
      "metadata": {
        "id": "y9K2kiisoObR"
      },
      "source": [
        "\n",
        "Don't worry about validating the number of rolls in a frame.\n",
        "\n",
        "The interface should look like this (in Java);\n",
        "\n",
        "```\n",
        "bowlingGame.roll(noOfPins);\n",
        "bowlingGame.score();\n",
        "```\n",
        "\n",
        "OPTIONAL\n",
        "If time permits implement the rules for the last frame (i.e, 10th frame).\n"
      ]
    },
    {
      "cell_type": "markdown",
      "metadata": {
        "id": "449vXdGLojeR"
      },
      "source": [
        "\n",
        "In the last frame, if the bowler bowls a spare, they get another bowl. The score of this frame is the sum of the three bowls.\n"
      ]
    },
    {
      "cell_type": "code",
      "metadata": {
        "id": "GCBFAxt5oKag"
      },
      "source": [
        "spare_on_10th = BowlingGame()\n",
        "for _ in range(18):\n",
        "  spare_on_10th.roll(0)\n",
        "spare_on_10th.roll(4)\n",
        "spare_on_10th.roll(6)\n",
        "spare_on_10th.roll(5)\n"
      ],
      "execution_count": 10,
      "outputs": []
    },
    {
      "cell_type": "code",
      "metadata": {
        "id": "JCShWn1fpajJ",
        "colab": {
          "base_uri": "https://localhost:8080/"
        },
        "outputId": "6586d6ca-1d70-4de7-f3c0-06c40ad36a15"
      },
      "source": [
        "spare_on_10th.score()"
      ],
      "execution_count": 11,
      "outputs": [
        {
          "output_type": "execute_result",
          "data": {
            "text/plain": [
              "15"
            ]
          },
          "metadata": {
            "tags": []
          },
          "execution_count": 11
        }
      ]
    },
    {
      "cell_type": "markdown",
      "metadata": {
        "id": "UNqhxrBVonSh"
      },
      "source": [
        "\n",
        "\n",
        "In the last frame, if the bowler bowls a strike, they get another 2 bowls. The score of this frame is the sum of the three bowls\n",
        "If one has a strike for every roll, their score is 300\n",
        "\n"
      ]
    },
    {
      "cell_type": "code",
      "metadata": {
        "id": "fMr4EX0Aoq-S"
      },
      "source": [
        "perfect_game = BowlingGame()\n",
        "for _ in range(12):\n",
        "  perfect_game.roll(10)\n"
      ],
      "execution_count": 12,
      "outputs": []
    },
    {
      "cell_type": "code",
      "metadata": {
        "id": "-IqThm8eppqw",
        "colab": {
          "base_uri": "https://localhost:8080/"
        },
        "outputId": "4d428c00-5155-4df4-f057-fbd0799f86f9"
      },
      "source": [
        "perfect_game.score()"
      ],
      "execution_count": 13,
      "outputs": [
        {
          "output_type": "execute_result",
          "data": {
            "text/plain": [
              "300"
            ]
          },
          "metadata": {
            "tags": []
          },
          "execution_count": 13
        }
      ]
    },
    {
      "cell_type": "markdown",
      "metadata": {
        "id": "kfiZtNjYorgR"
      },
      "source": [
        "\n",
        "Notes on implementation:\n",
        "\n",
        "use Java, Javascript, TypeScript, Ruby, Kotlin, **Python**, Swift, or Groovy\n",
        "try not to spend more than 2 hours maximum. (We don't want you to lose a weekend over this!)\n",
        "don't build guis etc, we're more interested in your approach to solving the given task, not how shiny it looks\n",
        "don't worry about making a command line interface to the application\n",
        "don't use any frameworks (rails, spring etc), or any external jars/gems (unless it's for testing or build/dependency mgt)\n",
        "When you've finished, send through the link to your github-repo. Happy coding"
      ]
    }
  ]
}